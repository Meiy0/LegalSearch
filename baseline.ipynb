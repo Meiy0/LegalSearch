{
 "cells": [
  {
   "cell_type": "markdown",
   "id": "700f0286",
   "metadata": {},
   "source": [
    "### Inputs"
   ]
  },
  {
   "cell_type": "code",
   "execution_count": 36,
   "id": "dd837ca2",
   "metadata": {},
   "outputs": [],
   "source": [
    "from datasets import load_dataset\n",
    "import pandas as pd\n",
    "\n",
    "import nltk\n",
    "from nltk.corpus import stopwords\n",
    "from nltk.stem import SnowballStemmer\n",
    "from nltk.tokenize import word_tokenize\n",
    "\n",
    "from sklearn.feature_extraction.text import TfidfVectorizer\n",
    "\n",
    "from sklearn.metrics.pairwise import cosine_similarity"
   ]
  },
  {
   "cell_type": "markdown",
   "id": "f7f4f044",
   "metadata": {},
   "source": [
    "### Descargas"
   ]
  },
  {
   "cell_type": "code",
   "execution_count": null,
   "id": "90c478b8",
   "metadata": {},
   "outputs": [
    {
     "name": "stderr",
     "output_type": "stream",
     "text": [
      "[nltk_data] Downloading package stopwords to\n",
      "[nltk_data]     C:\\Users\\scard\\AppData\\Roaming\\nltk_data...\n",
      "[nltk_data]   Package stopwords is already up-to-date!\n",
      "[nltk_data] Downloading package punkt_tab to\n",
      "[nltk_data]     C:\\Users\\scard\\AppData\\Roaming\\nltk_data...\n",
      "[nltk_data]   Package punkt_tab is already up-to-date!\n",
      "[nltk_data] Downloading package wordnet to\n",
      "[nltk_data]     C:\\Users\\scard\\AppData\\Roaming\\nltk_data...\n",
      "[nltk_data]   Package wordnet is already up-to-date!\n"
     ]
    },
    {
     "data": {
      "text/plain": [
       "True"
      ]
     },
     "execution_count": 8,
     "metadata": {},
     "output_type": "execute_result"
    }
   ],
   "source": [
    "nltk.download(\"stopwords\")\n",
    "nltk.download(\"punkt\")\n",
    "nltk.download(\"wordnet\")"
   ]
  },
  {
   "cell_type": "markdown",
   "id": "5f1784fd",
   "metadata": {},
   "source": [
    "### Cargar Datos"
   ]
  },
  {
   "cell_type": "code",
   "execution_count": 12,
   "id": "7f7822b7",
   "metadata": {},
   "outputs": [
    {
     "name": "stdout",
     "output_type": "stream",
     "text": [
      "<----------- Fila 0 ----------->\n",
      "Query: ¿Cuál fue la razón principal por la que la Corte Constitucional inadmitió a trámite la acción extraordinaria de protección N° 2850-19-EP, presentada por Javier Jefferson Delgado Guano y otros contra la sentencia de la Sala Única Multicompetente de la Corte Provincial de Esmeraldas?\n",
      "Positive: La Corte Constitucional inadmitió a trámite la acción extraordinaria de protección N° 2850-19-EP debido a que los accionantes no presentaron un argume...\n",
      "\n",
      "<----------- Fila 1 ----------->\n",
      "Query: ¿Por qué la Sala de Admisión de la Corte Constitucional inadmitió a trámite la acción extraordinaria de protección N°. 3090-19-EP presentada por José Antonio Guzñay contra la sentencia de la Corte Provincial de Zamora?\n",
      "Positive: La Sala de Admisión de la Corte Constitucional inadmitió a trámite la acción extraordinaria de protección N°. 3090-19-EP, presentada por el señor José...\n",
      "\n",
      "<----------- Fila 2 ----------->\n",
      "Query: ¿Cuál fue la controversia principal en el caso N°. 3090-19-EP y cómo evolucionaron las decisiones judiciales en las instancias inferiores antes de llegar a la Corte Constitucional?\n",
      "Positive: La controversia principal en el caso N°. 3090-19-EP radicó en la terminación unilateral del contrato de trabajo indefinido del señor José Antonio Guzñ...\n",
      "\n",
      "<----------- Fila 3 ----------->\n",
      "Query: ¿Cuáles son los requisitos de admisibilidad para una acción extraordinaria de protección según la Ley Orgánica de Garantías Jurisdiccionales y Control Constitucional y cómo se aplicaron en el caso N°. 3090-19-EP?\n",
      "Positive: La Ley Orgánica de Garantías Jurisdiccionales y Control Constitucional, en su artículo 62, establece los requisitos de admisibilidad para la acción ex...\n",
      "\n",
      "<----------- Fila 4 ----------->\n",
      "Query: ¿En qué circunstancias la Corte Constitucional del Ecuador inadmitió la acción extraordinaria de protección N° 2690-19-EP presentada por Yolanda Eugenia Salas Mancero contra un auto de la Corte Nacional de Justicia?\n",
      "Positive: La Corte Constitucional inadmitió la acción extraordinaria de protección N° 2690-19-EP, presentada por Yolanda Eugenia Salas Mancero, debido a que la ...\n",
      "\n"
     ]
    }
   ],
   "source": [
    "dataset = load_dataset(\"wilfredomartel/small-spanish-legal-dataset\", split=\"train\")\n",
    "df = pd.DataFrame(dataset)\n",
    "for index, row in df.head().iterrows():\n",
    "    print(f\"<----------- Fila {index} ----------->\")\n",
    "    print(f\"Query: {row['query']}\")\n",
    "    print(f\"Positive: {row['pos'][0][:150]}...\\n\")"
   ]
  },
  {
   "cell_type": "markdown",
   "id": "bf29e161",
   "metadata": {},
   "source": [
    "### Preprocesamiento"
   ]
  },
  {
   "cell_type": "code",
   "execution_count": 21,
   "id": "0f82a844",
   "metadata": {},
   "outputs": [
    {
     "name": "stdout",
     "output_type": "stream",
     "text": [
      "<---- Prueba de Preprocesamiento ---->\n",
      "Texto Original:\n",
      "La Corte Constitucional inadmitió a trámite la acción extraordinaria de protección N° 2850-19-EP debido a que los accionantes no presentaron un argumento claro sobre los derechos supuestamente violado...\n",
      "\n",
      "Texto Procesado:\n",
      "cort constitucional inadmit tramit accion extraordinari proteccion deb accion present argument clar derech supuest viol relacion direct inmediat accion u omision sal unic multicompetent cort provincia...\n"
     ]
    }
   ],
   "source": [
    "stemmer = nltk.SnowballStemmer(\"spanish\")\n",
    "stop_words_es = set(stopwords.words(\"spanish\"))\n",
    "\n",
    "def preprocesar_texto(texto):\n",
    "    texto_minusculas = texto.lower() \n",
    "    tokens = word_tokenize(texto_minusculas)\n",
    "    tokens_limpios = []\n",
    "    for palabra in tokens:\n",
    "        if palabra.isalpha(): \n",
    "            if palabra not in stop_words_es: \n",
    "                palabra_raiz = stemmer.stem(palabra) \n",
    "                tokens_limpios.append(palabra_raiz)\n",
    "    return \" \".join(tokens_limpios)\n",
    "\n",
    "corpus_original = df['pos'].explode().dropna().unique()\n",
    "corpus_limpio = [preprocesar_texto(texto) for texto in corpus_original]\n",
    "\n",
    "print(\"<---- Prueba de Preprocesamiento ---->\")\n",
    "print(f\"Texto Original:\\n{corpus_original[0][:200]}...\\n\")\n",
    "print(f\"Texto Procesado:\\n{corpus_limpio[0][:200]}...\")"
   ]
  },
  {
   "cell_type": "markdown",
   "id": "b7b4c55d",
   "metadata": {},
   "source": [
    "### TF-IFD"
   ]
  },
  {
   "cell_type": "code",
   "execution_count": null,
   "id": "3e43b4ba",
   "metadata": {},
   "outputs": [
    {
     "name": "stdout",
     "output_type": "stream",
     "text": [
      "Dimensiones TF-IDF: (22458, 11626)\n"
     ]
    }
   ],
   "source": [
    "vectorizer = TfidfVectorizer()\n",
    "matriz_tfidf = vectorizer.fit_transform(corpus_limpio)\n",
    "print(\"Dimensiones TF-IDF:\", matriz_tfidf.shape) #total de documentos #palabras únicas"
   ]
  },
  {
   "cell_type": "markdown",
   "id": "eb013c9a",
   "metadata": {},
   "source": [
    "### Búsqueda"
   ]
  },
  {
   "cell_type": "code",
   "execution_count": null,
   "id": "7908fc58",
   "metadata": {},
   "outputs": [],
   "source": [
    "def buscar_tfidf(pregunta_usuario, top_n=5):\n",
    "    print(f\"<--- Buscando: '{pregunta_usuario}' --->\")\n",
    "    pregunta_procesada = preprocesar_texto(pregunta_usuario)\n",
    "    pregunta_vector = vectorizer.transform([pregunta_procesada])\n",
    "    similitudes = cosine_similarity(pregunta_vector, matriz_tfidf).flatten()\n",
    "    indices_top = similitudes.argsort()[-top_n:][::-1]\n",
    "    print(\"Resultados encontrados:\\n\")\n",
    "    for i in indices_top:\n",
    "        print(f\"  Puntaje de Similitud: {similitudes[i]:.4f}\")\n",
    "        print(f\"  Texto: {corpus_original[i][:250]}...\\n\")\n",
    "\n",
    "pregunta_de_prueba = df.iloc[20]['query']"
   ]
  },
  {
   "cell_type": "code",
   "execution_count": 30,
   "id": "8be79094",
   "metadata": {},
   "outputs": [
    {
     "name": "stdout",
     "output_type": "stream",
     "text": [
      "<--- Buscando: '¿Cuál fue la razón principal por la que la Corte Constitucional inadmitió a trámite la acción extraordinaria de protección N. 2511-18-EP presentada por Juan Ricardo Cedillo Rizo?' --->\n",
      "Resultados encontrados:\n",
      "\n",
      "  Puntaje de Similitud: 0.6206\n",
      "  Texto: El recurso de apelación interpuesto por Juan Ricardo Cedillo Rizo contra la sentencia condenatoria fue desestimado por la Sala de lo Penal de la Corte Provincial de Justicia de Manabí el 09 de mayo de 2018. Esta decisión mantuvo incólume la sentencia...\n",
      "\n",
      "  Puntaje de Similitud: 0.6184\n",
      "  Texto: La Sala de lo Penal de la Corte Provincial de Justicia de Manabí, mediante fallo dictado el 09 de mayo del 2018, desechó el recurso de apelación presentado por el señor Juan Ricardo Cedillo Rizo. En dicha resolución, la Sala confirmó en todas sus par...\n",
      "\n",
      "  Puntaje de Similitud: 0.4594\n",
      "  Texto: El señor Juan Ricardo Cedillo Rizo fue procesado y posteriormente condenado por el delito de asociación ilícita, conforme a lo establecido en los artículos 369 y 370 del Código Penal. La sentencia condenatoria emitida el 31 de julio de 2017 por el Tr...\n",
      "\n",
      "  Puntaje de Similitud: 0.4237\n",
      "  Texto: La Corte Constitucional inadmitió a trámite la acción extraordinaria de protección N. 2511-18-EP, interpuesta por el señor Juan Ricardo Cedillo Rizo, debido a que no se presentó dentro del término legal establecido. Según el artículo 60 de la Ley Org...\n",
      "\n",
      "  Puntaje de Similitud: 0.4143\n",
      "  Texto: Al señor Juan Ricardo Cedillo Rizo se le imputó el delito de asociación ilícita, tipificado y sancionado en los artículos 369 y 370 del Código Penal. El Tribunal de Garantías Penales de Manabí, con sede en el cantón Manta, dictó sentencia condenatori...\n",
      "\n"
     ]
    }
   ],
   "source": [
    "buscar_tfidf(pregunta_de_prueba)"
   ]
  },
  {
   "cell_type": "code",
   "execution_count": 31,
   "id": "ac0ac412",
   "metadata": {},
   "outputs": [
    {
     "name": "stdout",
     "output_type": "stream",
     "text": [
      "<--- Buscando: '¿Qué pasa con las obligaciones del vendedor?' --->\n",
      "Resultados encontrados:\n",
      "\n",
      "  Puntaje de Similitud: 0.3872\n",
      "  Texto: Tras el contrato de compraventa, se inició un litigio donde Austrocorp S.A. demandó una reducción del precio por supuesta menor cabida del terreno vendido. En contrapartida, los vendedores reconvinieron exigiendo el pago de los $150.000,00 adeudados ...\n",
      "\n",
      "  Puntaje de Similitud: 0.1940\n",
      "  Texto: La decisión de la Sala de Admisión de la Corte Constitucional de admitir a trámite la acción extraordinaria de protección No. 1871-10-EP tiene una implicación fundamental: significa que la Corte ha considerado que la demanda cumple con los presupuest...\n",
      "\n",
      "  Puntaje de Similitud: 0.1751\n",
      "  Texto: La accionante, Ana Lucía Romero Medina de Santos, fundamentó su acción extraordinaria de protección en la presunta vulneración de dos derechos constitucionales fundamentales por parte del Juez Primero de Inquilinato de Guayaquil en el proceso de desa...\n",
      "\n",
      "  Puntaje de Similitud: 0.1745\n",
      "  Texto: El Ministerio de Inclusión Económica y Social, al ver denegado su recurso de casación por el Tribunal Distrital de lo Contencioso Administrativo de Quito, tenía la obligación de interponer el recurso de hecho. Este recurso está previsto en el ordenam...\n",
      "\n",
      "  Puntaje de Similitud: 0.1717\n",
      "  Texto: El marco legal que rige la acción extraordinaria de protección, y que fundamentó la decisión de la Sala de Admisión de la Corte Constitucional de avocar conocimiento de la causa 0354-18-EP, se encuentra en la Constitución de la República y el artícul...\n",
      "\n"
     ]
    }
   ],
   "source": [
    "buscar_tfidf(\"¿Qué pasa con las obligaciones del vendedor?\")"
   ]
  }
 ],
 "metadata": {
  "kernelspec": {
   "display_name": "Python 3",
   "language": "python",
   "name": "python3"
  },
  "language_info": {
   "codemirror_mode": {
    "name": "ipython",
    "version": 3
   },
   "file_extension": ".py",
   "mimetype": "text/x-python",
   "name": "python",
   "nbconvert_exporter": "python",
   "pygments_lexer": "ipython3",
   "version": "3.11.9"
  }
 },
 "nbformat": 4,
 "nbformat_minor": 5
}
