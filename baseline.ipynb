{
 "cells": [
  {
   "cell_type": "markdown",
   "id": "700f0286",
   "metadata": {},
   "source": [
    "### Inputs"
   ]
  },
  {
   "cell_type": "code",
   "execution_count": null,
   "id": "dd837ca2",
   "metadata": {},
   "outputs": [],
   "source": [
    "from datasets import load_dataset\n",
    "import pandas as pd"
   ]
  },
  {
   "cell_type": "markdown",
   "id": "5f1784fd",
   "metadata": {},
   "source": [
    "### Cargar Datos"
   ]
  },
  {
   "cell_type": "code",
   "execution_count": 5,
   "id": "7f7822b7",
   "metadata": {},
   "outputs": [
    {
     "name": "stdout",
     "output_type": "stream",
     "text": [
      "<----------- Fila 0 ----------->\n",
      "QUERY: ¿Cuál fue la razón principal por la que la Corte Constitucional inadmitió a trámite la acción extraordinaria de protección N° 2850-19-EP, presentada por Javier Jefferson Delgado Guano y otros contra la sentencia de la Sala Única Multicompetente de la Corte Provincial de Esmeraldas?\n",
      "POSITIVE: La Corte Constitucional inadmitió a trámite la acción extraordinaria de protección N° 2850-19-EP debido a que los accionantes no presentaron un argume...\n",
      "\n",
      "<----------- Fila 1 ----------->\n",
      "QUERY: ¿Por qué la Sala de Admisión de la Corte Constitucional inadmitió a trámite la acción extraordinaria de protección N°. 3090-19-EP presentada por José Antonio Guzñay contra la sentencia de la Corte Provincial de Zamora?\n",
      "POSITIVE: La Sala de Admisión de la Corte Constitucional inadmitió a trámite la acción extraordinaria de protección N°. 3090-19-EP, presentada por el señor José...\n",
      "\n",
      "<----------- Fila 2 ----------->\n",
      "QUERY: ¿Cuál fue la controversia principal en el caso N°. 3090-19-EP y cómo evolucionaron las decisiones judiciales en las instancias inferiores antes de llegar a la Corte Constitucional?\n",
      "POSITIVE: La controversia principal en el caso N°. 3090-19-EP radicó en la terminación unilateral del contrato de trabajo indefinido del señor José Antonio Guzñ...\n",
      "\n",
      "<----------- Fila 3 ----------->\n",
      "QUERY: ¿Cuáles son los requisitos de admisibilidad para una acción extraordinaria de protección según la Ley Orgánica de Garantías Jurisdiccionales y Control Constitucional y cómo se aplicaron en el caso N°. 3090-19-EP?\n",
      "POSITIVE: La Ley Orgánica de Garantías Jurisdiccionales y Control Constitucional, en su artículo 62, establece los requisitos de admisibilidad para la acción ex...\n",
      "\n",
      "<----------- Fila 4 ----------->\n",
      "QUERY: ¿En qué circunstancias la Corte Constitucional del Ecuador inadmitió la acción extraordinaria de protección N° 2690-19-EP presentada por Yolanda Eugenia Salas Mancero contra un auto de la Corte Nacional de Justicia?\n",
      "POSITIVE: La Corte Constitucional inadmitió la acción extraordinaria de protección N° 2690-19-EP, presentada por Yolanda Eugenia Salas Mancero, debido a que la ...\n",
      "\n"
     ]
    }
   ],
   "source": [
    "dataset = load_dataset(\"wilfredomartel/small-spanish-legal-dataset\", split=\"train\")\n",
    "df = pd.DataFrame(dataset)\n",
    "for index, row in df.head().iterrows():\n",
    "    print(f\"<----------- Fila {index} ----------->\")\n",
    "    print(f\"QUERY: {row['query']}\")\n",
    "    print(f\"POSITIVE: {row['pos'][0][:150]}...\\n\")"
   ]
  },
  {
   "cell_type": "markdown",
   "id": "bf29e161",
   "metadata": {},
   "source": [
    "### Preprocesamiento"
   ]
  },
  {
   "cell_type": "code",
   "execution_count": null,
   "id": "0f82a844",
   "metadata": {},
   "outputs": [],
   "source": []
  }
 ],
 "metadata": {
  "kernelspec": {
   "display_name": "Python 3",
   "language": "python",
   "name": "python3"
  },
  "language_info": {
   "codemirror_mode": {
    "name": "ipython",
    "version": 3
   },
   "file_extension": ".py",
   "mimetype": "text/x-python",
   "name": "python",
   "nbconvert_exporter": "python",
   "pygments_lexer": "ipython3",
   "version": "3.11.9"
  }
 },
 "nbformat": 4,
 "nbformat_minor": 5
}
